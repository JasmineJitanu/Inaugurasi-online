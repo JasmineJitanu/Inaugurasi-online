{
 "cells": [
  {
   "cell_type": "code",
   "execution_count": 2,
   "id": "7bdc654e",
   "metadata": {},
   "outputs": [
    {
     "name": "stdout",
     "output_type": "stream",
     "text": [
      "jasmine jitanu\n",
      "my favorite programming languange is python\n"
     ]
    }
   ],
   "source": [
    "print(\"jasmine jitanu\")\n",
    "print(\"my favorite programming languange is python\")"
   ]
  }
 ],
 "metadata": {
  "kernelspec": {
   "display_name": "Python 3",
   "language": "python",
   "name": "python3"
  },
  "language_info": {
   "codemirror_mode": {
    "name": "ipython",
    "version": 3
   },
   "file_extension": ".py",
   "mimetype": "text/x-python",
   "name": "python",
   "nbconvert_exporter": "python",
   "pygments_lexer": "ipython3",
   "version": "3.9.12"
  }
 },
 "nbformat": 4,
 "nbformat_minor": 5
}
